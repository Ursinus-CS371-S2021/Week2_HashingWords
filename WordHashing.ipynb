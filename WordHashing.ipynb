{
 "cells": [
  {
   "cell_type": "code",
   "execution_count": 1,
   "id": "cf6c3ec5",
   "metadata": {},
   "outputs": [
    {
     "name": "stdout",
     "output_type": "stream",
     "text": [
      "332475\n",
      "['the', 'of', 'and', 'to', 'a', 'in', 'for', 'is', 'on', 'that']\n",
      "['googllr', 'googlal', 'googgoo', 'googgol', 'goofel', 'gooek', 'gooddg', 'gooblle', 'gollgo', 'golgw']\n"
     ]
    }
   ],
   "source": [
    "fin = open(\"words.txt\")\n",
    "words = fin.read().split()\n",
    "fin.close()\n",
    "print(len(words))\n",
    "print(words[0:10])\n",
    "print(words[-10::])"
   ]
  },
  {
   "cell_type": "code",
   "execution_count": null,
   "id": "4e180749",
   "metadata": {},
   "outputs": [],
   "source": []
  }
 ],
 "metadata": {
  "kernelspec": {
   "display_name": "Python 3 (ipykernel)",
   "language": "python",
   "name": "python3"
  },
  "language_info": {
   "codemirror_mode": {
    "name": "ipython",
    "version": 3
   },
   "file_extension": ".py",
   "mimetype": "text/x-python",
   "name": "python",
   "nbconvert_exporter": "python",
   "pygments_lexer": "ipython3",
   "version": "3.9.7"
  }
 },
 "nbformat": 4,
 "nbformat_minor": 5
}
